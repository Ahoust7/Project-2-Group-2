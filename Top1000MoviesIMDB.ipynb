{
 "cells": [
  {
   "cell_type": "code",
   "execution_count": 2,
   "id": "36adde9c",
   "metadata": {},
   "outputs": [
    {
     "name": "stdout",
     "output_type": "stream",
     "text": [
      "                                             Title  Year Rating\n",
      "0                         The Shawshank Redemption  1994    9.3\n",
      "1                                    The Godfather  1972    9.2\n",
      "2                                  The Dark Knight  2008    9.0\n",
      "3    The Lord of the Rings: The Return of the King  2003    9.0\n",
      "4                                 Schindler's List  1993    9.0\n",
      "..                                             ...   ...    ...\n",
      "995                                          Shine  1996    7.6\n",
      "996                            Eyes Without a Face  1960    7.6\n",
      "997                                 The Odd Couple  1968    7.6\n",
      "998                              The Invisible Man  1933    7.6\n",
      "999                                      Celda 211  2009    7.6\n",
      "\n",
      "[1000 rows x 3 columns]\n"
     ]
    }
   ],
   "source": [
    "from splinter import Browser\n",
    "from bs4 import BeautifulSoup as soup\n",
    "import pandas as pd\n",
    "\n",
    "# Set up Splinter\n",
    "browser = Browser('chrome')\n",
    "\n",
    "# Create an empty list to store the movie data\n",
    "movies = []\n",
    "\n",
    "# Loop over all the URLs\n",
    "for i in range(10):\n",
    "    # Construct the URL for the current page\n",
    "    url = f'https://www.imdb.com/search/title/?groups=top_1000&sort=user_rating,desc&count=100&start={i*100+1}&ref_=adv_nxt'\n",
    "\n",
    "    # Visit the URL\n",
    "    browser.visit(url)\n",
    "\n",
    "    # Parse the website\n",
    "    html = browser.html\n",
    "    html_soup = soup(html, 'html.parser')\n",
    "\n",
    "    # Find the list of movies\n",
    "    movie_list = html_soup.find('div', {'class': 'lister-list'})\n",
    "\n",
    "    # Find all the rows in the list\n",
    "    movie_rows = movie_list.find_all('div', {'class': 'lister-item'})\n",
    "\n",
    "    # Loop over the rows and extract the movie details\n",
    "    for row in movie_rows:\n",
    "        # Get the movie title\n",
    "        title = row.find('h3', {'class': 'lister-item-header'}).find('a').text\n",
    "\n",
    "        # Get the movie year\n",
    "        year = row.find('span', {'class': 'lister-item-year'}).text.strip('()')\n",
    "\n",
    "        # Get the movie rating\n",
    "        rating = row.find('div', {'class': 'ratings-bar'}).find('strong').text\n",
    "\n",
    "        # Add the movie data to the list\n",
    "        movies.append({'Title': title, 'Year': year, 'Rating': rating})\n",
    "\n",
    "# Create a DataFrame from the movie data\n",
    "df = pd.DataFrame(movies)\n",
    "\n",
    "print(df)\n",
    "\n",
    "# Export the DataFrame to a CSV file\n",
    "df.to_csv('imdb_top_1000_movies.csv', index=False)\n"
   ]
  },
  {
   "cell_type": "code",
   "execution_count": null,
   "id": "a0d54168",
   "metadata": {},
   "outputs": [],
   "source": []
  }
 ],
 "metadata": {
  "kernelspec": {
   "display_name": "Python 3 (ipykernel)",
   "language": "python",
   "name": "python3"
  },
  "language_info": {
   "codemirror_mode": {
    "name": "ipython",
    "version": 3
   },
   "file_extension": ".py",
   "mimetype": "text/x-python",
   "name": "python",
   "nbconvert_exporter": "python",
   "pygments_lexer": "ipython3",
   "version": "3.9.13"
  }
 },
 "nbformat": 4,
 "nbformat_minor": 5
}
