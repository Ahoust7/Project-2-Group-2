{
 "cells": [
  {
   "cell_type": "code",
   "execution_count": 2,
   "id": "28c192ca",
   "metadata": {},
   "outputs": [],
   "source": [
    "import pandas as pd\n",
    "import ast\n",
    "\n",
    "# Read the CSV file into a DataFrame\n",
    "df = pd.read_csv('imdb_top_1000_TV_final.csv')\n",
    "\n",
    "# Convert the string representation of the list to an actual list\n",
    "df['Stars'] = df['Stars'].apply(lambda x: ast.literal_eval(x))\n",
    "df['Genres'] = df['Genres'].apply(lambda x: ast.literal_eval(x))\n",
    "\n",
    "# Convert the DataFrame to JSON and write it to a file\n",
    "df.to_json('test_file.json', orient='records')"
   ]
  },
  {
   "cell_type": "code",
   "execution_count": null,
   "id": "ef8cbd77",
   "metadata": {},
   "outputs": [],
   "source": []
  }
 ],
 "metadata": {
  "kernelspec": {
   "display_name": "Python 3 (ipykernel)",
   "language": "python",
   "name": "python3"
  },
  "language_info": {
   "codemirror_mode": {
    "name": "ipython",
    "version": 3
   },
   "file_extension": ".py",
   "mimetype": "text/x-python",
   "name": "python",
   "nbconvert_exporter": "python",
   "pygments_lexer": "ipython3",
   "version": "3.9.13"
  }
 },
 "nbformat": 4,
 "nbformat_minor": 5
}
