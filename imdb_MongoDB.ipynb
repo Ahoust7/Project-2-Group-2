{
 "cells": [
  {
   "cell_type": "code",
   "execution_count": 46,
   "id": "28ae9479",
   "metadata": {},
   "outputs": [],
   "source": [
    "# Import dependencies\n",
    "from pymongo import MongoClient\n",
    "import json\n",
    "import requests \n",
    "from pprint import pprint"
   ]
  },
  {
   "cell_type": "code",
   "execution_count": 47,
   "id": "5c6cee41",
   "metadata": {},
   "outputs": [],
   "source": [
    "# Create an instance of MongoClient\n",
    "mongo = MongoClient('mongodb://localhost:27017/')"
   ]
  },
  {
   "cell_type": "code",
   "execution_count": 48,
   "id": "f671f1cf",
   "metadata": {},
   "outputs": [
    {
     "name": "stdout",
     "output_type": "stream",
     "text": [
      "['Test', 'admin', 'config', 'imdb', 'local', 'met', 'test2', 'test3', 'uk_food']\n"
     ]
    }
   ],
   "source": [
    "# confirm that our new database was created\n",
    "print(mongo.list_database_names())"
   ]
  },
  {
   "cell_type": "code",
   "execution_count": 49,
   "id": "a5422f0a",
   "metadata": {},
   "outputs": [],
   "source": [
    "# assign the imdb database to a variable name\n",
    "imdb = mongo['imdb']"
   ]
  },
  {
   "cell_type": "code",
   "execution_count": 50,
   "id": "d99b2545",
   "metadata": {},
   "outputs": [
    {
     "name": "stdout",
     "output_type": "stream",
     "text": [
      "['TV', 'movies']\n"
     ]
    }
   ],
   "source": [
    "# review the collections in our new database\n",
    "print(imdb.list_collection_names())"
   ]
  },
  {
   "cell_type": "code",
   "execution_count": 51,
   "id": "77f1d4b2",
   "metadata": {},
   "outputs": [
    {
     "name": "stdout",
     "output_type": "stream",
     "text": [
      "{'End_Year': 2019,\n",
      " 'Genres': ['Action', 'Adventure', 'Drama'],\n",
      " 'Rating': 9.2,\n",
      " 'Stars': ['Peter Dinklage', 'Kit Harington', 'Lena Headey'],\n",
      " 'Start_Year': 2011,\n",
      " 'Title': 'Game of Thrones',\n",
      " 'Votes': 2141065,\n",
      " '_id': ObjectId('641d048ab76eb895f4a53eda')}\n"
     ]
    }
   ],
   "source": [
    "# review a document in the tv collection\n",
    "pprint(imdb.TV.find_one())"
   ]
  },
  {
   "cell_type": "code",
   "execution_count": 52,
   "id": "d5b6d2e7",
   "metadata": {},
   "outputs": [],
   "source": [
    "# assign the collection to a variable\n",
    "TV = imdb['TV']\n",
    "# assign the collection to a variable\n",
    "movies = imdb['movies']"
   ]
  },
  {
   "cell_type": "code",
   "execution_count": 53,
   "id": "fbdf9b75",
   "metadata": {},
   "outputs": [
    {
     "name": "stdout",
     "output_type": "stream",
     "text": [
      "Game of Thrones 2141065\n",
      "Breaking Bad 1945469\n",
      "Stranger Things 1225425\n",
      "The Walking Dead 1016458\n",
      "Friends 1015775\n",
      "Sherlock 942260\n",
      "The Big Bang Theory 822355\n",
      "Dexter 734340\n",
      "How I Met Your Mother 695209\n",
      "The Office 626557\n"
     ]
    }
   ],
   "source": [
    "#Top 10 shows by votes\n",
    "\n",
    "# Use the 'find' method to retrieve documents from the TV collection, sorted by descending vote count\n",
    "top_shows = TV.find().sort('Votes', -1).limit(10)\n",
    "\n",
    "# Iterate through the results and print out the title and vote count for each show\n",
    "for show in top_shows:\n",
    "    print(show['Title'], show['Votes'])\n"
   ]
  },
  {
   "cell_type": "code",
   "execution_count": 54,
   "id": "9b14fffd",
   "metadata": {},
   "outputs": [
    {
     "name": "stdout",
     "output_type": "stream",
     "text": [
      "Graceland 17235\n",
      "The Ellen DeGeneres Show 17249\n",
      "Dickinson 17258\n",
      "Uncoupled 17281\n",
      "Metalocalypse 17296\n",
      "Two Guys, a Girl and a Pizza Place 17354\n",
      "Shameless 17356\n",
      "All in the Family 17366\n",
      "Electric Dreams 17384\n",
      "Justice League Unlimited 17409\n"
     ]
    }
   ],
   "source": [
    "#Bottom 10 TV shows\n",
    "\n",
    "# Use the 'find' method to retrieve documents from the TV collection, sorted by ascending vote count\n",
    "bottom_shows = TV.find().sort('Votes', 1).limit(10)\n",
    "\n",
    "# Iterate through the results and print out the title and vote count for each show\n",
    "for show in bottom_shows:\n",
    "    print(show['Title'], show['Votes'])"
   ]
  },
  {
   "cell_type": "code",
   "execution_count": 55,
   "id": "41200544",
   "metadata": {},
   "outputs": [
    {
     "name": "stdout",
     "output_type": "stream",
     "text": [
      "Actor: Tom Kenny\n",
      "Number of appearances: 8\n",
      "Shows: ['Adventure Time', 'Final Space', 'The Powerpuff Girls', 'Johnny Bravo', 'CatDog', \"Foster's Home for Imaginary Friends\", \"Rocko's Modern Life\", 'Paradise PD']\n"
     ]
    }
   ],
   "source": [
    "#most appeared Star\n",
    "\n",
    "# Use the 'aggregate' method to group documents by each star, and count the number of times they appear\n",
    "star_count = TV.aggregate([\n",
    "    {\"$unwind\": \"$Stars\"},\n",
    "    {\"$group\": {\"_id\": \"$Stars\", \"count\": {\"$sum\": 1}, \"shows\": {\"$push\": \"$Title\"}}},\n",
    "    {\"$sort\": {\"count\": -1}},\n",
    "    {\"$limit\": 1}\n",
    "])\n",
    "\n",
    "# Retrieve the actor with the most appearances from the result\n",
    "most_frequent_actor = list(star_count)[0]\n",
    "\n",
    "# Print out the actor's name, the number of times they appeared, and the shows they appeared in\n",
    "print(\"Actor:\", most_frequent_actor['_id'])\n",
    "print(\"Number of appearances:\", most_frequent_actor['count'])\n",
    "print(\"Shows:\", most_frequent_actor['shows'])"
   ]
  },
  {
   "cell_type": "code",
   "execution_count": 56,
   "id": "7d129ee1",
   "metadata": {},
   "outputs": [
    {
     "name": "stdout",
     "output_type": "stream",
     "text": [
      "1950.0 8.700000000000001\n",
      "1970.0 8.28\n",
      "1960.0 7.9363636363636365\n",
      "1980.0 7.869767441860464\n",
      "2010.0 7.803340292275575\n",
      "2000.0 7.777464788732394\n",
      "1990.0 7.742696629213484\n",
      "2020.0 7.441447368421052\n"
     ]
    }
   ],
   "source": [
    "#average tv rating by decade\n",
    "\n",
    "# Use the 'aggregate' method to group documents by the decade, based on the start year\n",
    "ratings_by_decade = TV.aggregate([\n",
    "    {\"$addFields\": {\n",
    "        \"Decade\": {\n",
    "            \"$subtract\": [{\"$floor\": {\"$divide\": [\"$Start_Year\", 10]}}, 1]\n",
    "        }\n",
    "    }},\n",
    "    {\"$group\": {\"_id\": \"$Decade\", \"average_rating\": {\"$avg\": \"$Rating\"}}},\n",
    "    {\"$sort\": {\"average_rating\": -1, \"_id\": -1}}\n",
    "])\n",
    "\n",
    "# Iterate through the results and print out the decade and average rating for each\n",
    "for decade in ratings_by_decade:\n",
    "    # Adjust decade value to show as a four digit year\n",
    "    decade_year = (decade['_id'] + 1) * 10\n",
    "    print(decade_year, decade['average_rating'])"
   ]
  },
  {
   "cell_type": "code",
   "execution_count": 57,
   "id": "f6ac5d9f",
   "metadata": {},
   "outputs": [
    {
     "name": "stdout",
     "output_type": "stream",
     "text": [
      "The Shawshank Redemption 2717298\n",
      "The Dark Knight 2689938\n",
      "Inception 2387301\n",
      "Fight Club 2160789\n",
      "Forrest Gump 2112227\n",
      "Pulp Fiction 2086592\n",
      "The Matrix 1937921\n",
      "The Lord of the Rings: The Fellowship of the Ring 1899064\n",
      "The Godfather 1887987\n",
      "Interstellar 1877393\n"
     ]
    }
   ],
   "source": [
    "#top 10 movies\n",
    "\n",
    "# Use the 'find' method to retrieve the top 10 movies by votes, and sort by descending order\n",
    "top_movies = movies.find().sort([(\"Votes\", -1)]).limit(10)\n",
    "\n",
    "# Iterate through the results and print out the movie titles and number of votes for each\n",
    "for movie in top_movies:\n",
    "    print(movie['Title'], movie['Votes'])\n"
   ]
  },
  {
   "cell_type": "code",
   "execution_count": 58,
   "id": "91f12d06",
   "metadata": {},
   "outputs": [
    {
     "name": "stdout",
     "output_type": "stream",
     "text": [
      "Winter Light 25758\n",
      "Yi Yi: A One and a Two... 25782\n",
      "Black Narcissus 25826\n",
      "Like Father, Like Son 26066\n",
      "Through a Glass Darkly 26074\n",
      "Everything's Gonna Be Great 26110\n",
      "Sarfarosh 26120\n",
      "The Way He Looks 26192\n",
      "Le Cercle Rouge 26293\n",
      "A Woman Under the Influence 26359\n"
     ]
    }
   ],
   "source": [
    "# bottom 10 movies\n",
    "\n",
    "# Use the 'find' method to retrieve the bottom 10 movies by votes, and sort by ascending order\n",
    "bottom_movies = movies.find().sort([(\"Votes\", 1)]).limit(10)\n",
    "\n",
    "# Iterate through the results and print out the movie titles and number of votes for each\n",
    "for movie in bottom_movies:\n",
    "    print(movie['Title'], movie['Votes'])"
   ]
  },
  {
   "cell_type": "code",
   "execution_count": 59,
   "id": "4f0fdf7b",
   "metadata": {},
   "outputs": [
    {
     "name": "stdout",
     "output_type": "stream",
     "text": [
      "Actor: Robert De Niro\n",
      "Number of appearances: 16\n",
      "Movies: ['The Godfather Part II', 'Goodfellas', 'Joker', 'Heat', 'Once Upon a Time in America', 'Taxi Driver', 'Casino', 'Raging Bull', 'The Deer Hunter', 'Brazil', 'The Irishman', 'The Untouchables', 'Awakenings', 'A Bronx Tale', 'The King of Comedy', 'Silver Linings Playbook']\n"
     ]
    }
   ],
   "source": [
    "#most appeares movie star\n",
    "\n",
    "# Use the 'aggregate' method to group documents by each star, and count the number of times they appear\n",
    "star_count = movies.aggregate([\n",
    "    {\"$unwind\": \"$Stars\"},\n",
    "    {\"$group\": {\"_id\": \"$Stars\", \"count\": {\"$sum\": 1}, \"movies\": {\"$push\": \"$Title\"}}},\n",
    "    {\"$sort\": {\"count\": -1}},\n",
    "    {\"$limit\": 1}\n",
    "])\n",
    "\n",
    "# Retrieve the actor with the most appearances from the result\n",
    "most_frequent_actor = list(star_count)[0]\n",
    "\n",
    "# Print out the actor's name, the number of times they appeared, and the movies they appeared in\n",
    "print(\"Actor:\", most_frequent_actor['_id'])\n",
    "print(\"Number of appearances:\", most_frequent_actor['count'])\n",
    "print(\"Movies:\", most_frequent_actor['movies'])"
   ]
  },
  {
   "cell_type": "code",
   "execution_count": 62,
   "id": "e8b99edf",
   "metadata": {},
   "outputs": [],
   "source": [
    "#average movie rating by decade\n",
    "\n",
    "# Use the 'aggregate' method to group documents by the decade, based on the release year\n",
    "ratings_by_decade = movies.aggregate([\n",
    "    {\"$match\": {\"Release_Year\": {\"$exists\": True, \"$ne\": None}}},\n",
    "    {\"$addFields\": {\n",
    "        \"Decade\": {\n",
    "            \"$subtract\": [{\"$floor\": {\"$divide\": [\"$Release_Year\", 10]}}, 1]\n",
    "        }\n",
    "    }},\n",
    "    {\"$group\": {\"_id\": \"$Decade\", \"average_rating\": {\"$avg\": \"$Rating\"}}},\n",
    "    {\"$sort\": {\"average_rating\": -1, \"_id\": -1}}\n",
    "])\n",
    "\n",
    "# Iterate through the results and print out the decade and average rating for each\n",
    "for decade in ratings_by_decade:\n",
    "    # Adjust decade value to show as a four digit year\n",
    "    if decade['_id'] is not None:\n",
    "        decade_year = (decade['_id'] + 1) * 10\n",
    "        print(decade_year, decade['average_rating'])"
   ]
  },
  {
   "cell_type": "code",
   "execution_count": 64,
   "id": "0d017eb0",
   "metadata": {},
   "outputs": [
    {
     "name": "stdout",
     "output_type": "stream",
     "text": [
      "Director: Alfred Hitchcock\n",
      "Average rating: 8.066666666666666\n",
      "Number of appearances: 12\n"
     ]
    }
   ],
   "source": [
    "#director who has appeared the most and there ranking\n",
    "\n",
    "# Use the 'aggregate' method to group documents by director and calculate their average rating\n",
    "director_ratings = movies.aggregate([\n",
    "    {\"$group\": {\"_id\": \"$Director\", \"average_rating\": {\"$avg\": \"$Rating\"}, \"count\": {\"$sum\": 1}}},\n",
    "    {\"$sort\": {\"count\": -1}},\n",
    "    {\"$limit\": 1}\n",
    "])\n",
    "\n",
    "# Iterate through the results and print out the director, their average rating, and the number of times they appear\n",
    "for director in director_ratings:\n",
    "    print(\"Director:\", director['_id'])\n",
    "    print(\"Average rating:\", director['average_rating'])\n",
    "    print(\"Number of appearances:\", director['count'])"
   ]
  },
  {
   "cell_type": "code",
   "execution_count": null,
   "id": "71756118",
   "metadata": {},
   "outputs": [],
   "source": []
  }
 ],
 "metadata": {
  "kernelspec": {
   "display_name": "Python 3 (ipykernel)",
   "language": "python",
   "name": "python3"
  },
  "language_info": {
   "codemirror_mode": {
    "name": "ipython",
    "version": 3
   },
   "file_extension": ".py",
   "mimetype": "text/x-python",
   "name": "python",
   "nbconvert_exporter": "python",
   "pygments_lexer": "ipython3",
   "version": "3.9.13"
  }
 },
 "nbformat": 4,
 "nbformat_minor": 5
}
