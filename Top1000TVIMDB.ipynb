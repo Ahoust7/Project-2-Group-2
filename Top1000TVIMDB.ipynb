{
 "cells": [
  {
   "cell_type": "code",
   "execution_count": 1,
   "id": "96cdc964",
   "metadata": {},
   "outputs": [
    {
     "name": "stdout",
     "output_type": "stream",
     "text": [
      "                                  Title       Year Rating\n",
      "0                       Game of Thrones  2011–2019    9.2\n",
      "1                          Breaking Bad  2008–2013    9.5\n",
      "2                       Stranger Things  2016–2024    8.7\n",
      "3                      The Walking Dead  2010–2022    8.1\n",
      "4                               Friends  1994–2004    8.9\n",
      "..                                  ...        ...    ...\n",
      "995  Two Guys, a Girl and a Pizza Place  1998–2001    7.4\n",
      "996                       Metalocalypse  2006–2013    8.3\n",
      "997                           Uncoupled       2022    7.0\n",
      "998            The Ellen DeGeneres Show  2003–2023    6.7\n",
      "999                           Dickinson  2019–2021    7.6\n",
      "\n",
      "[1000 rows x 3 columns]\n"
     ]
    }
   ],
   "source": [
    "from splinter import Browser\n",
    "from bs4 import BeautifulSoup as soup\n",
    "import pandas as pd\n",
    "\n",
    "# Set up Splinter\n",
    "browser = Browser('chrome')\n",
    "\n",
    "# Create an empty list to store the movie data\n",
    "TVshows = []\n",
    "\n",
    "# Loop over all the URLs\n",
    "for i in range(10):\n",
    "    # Construct the URL for the current page\n",
    "    url = f'https://www.imdb.com/search/title/?title_type=tv_series&num_votes=1000,&languages=en&sort=num_votes,desc&count=100&start={i*100+1}&ref_=adv_nxt'\n",
    "\n",
    "    # Visit the URL\n",
    "    browser.visit(url)\n",
    "\n",
    "    # Parse the website\n",
    "    html = browser.html\n",
    "    html_soup = soup(html, 'html.parser')\n",
    "\n",
    "    # Find the list of movies\n",
    "    TV_list = html_soup.find('div', {'class': 'lister-list'})\n",
    "\n",
    "    # Find all the rows in the list\n",
    "    TV_rows = TV_list.find_all('div', {'class': 'lister-item'})\n",
    "\n",
    "    # Loop over the rows and extract the movie details\n",
    "    for row in TV_rows:\n",
    "        # Get the TV title\n",
    "        title = row.find('h3', {'class': 'lister-item-header'}).find('a').text\n",
    "\n",
    "        # Get the TV year\n",
    "        year = row.find('span', {'class': 'lister-item-year'}).text.strip('()')\n",
    "\n",
    "        # Get the TV rating\n",
    "        rating = row.find('div', {'class': 'ratings-bar'}).find('strong').text\n",
    "\n",
    "        # Add the TV data to the list\n",
    "        TVshows.append({'Title': title, 'Year': year, 'Rating': rating})\n",
    "\n",
    "\n",
    "# Create a DataFrame from the TV show data\n",
    "df_TV = pd.DataFrame(TVshows)\n",
    "\n",
    "print(df_TV)\n",
    "\n",
    "# Export the DataFrame to a CSV file\n",
    "df_TV.to_csv('imdb_top_1000_TV.csv', index=False)\n"
   ]
  },
  {
   "cell_type": "code",
   "execution_count": null,
   "id": "d5b46692",
   "metadata": {},
   "outputs": [],
   "source": []
  }
 ],
 "metadata": {
  "kernelspec": {
   "display_name": "Python 3 (ipykernel)",
   "language": "python",
   "name": "python3"
  },
  "language_info": {
   "codemirror_mode": {
    "name": "ipython",
    "version": 3
   },
   "file_extension": ".py",
   "mimetype": "text/x-python",
   "name": "python",
   "nbconvert_exporter": "python",
   "pygments_lexer": "ipython3",
   "version": "3.9.13"
  }
 },
 "nbformat": 4,
 "nbformat_minor": 5
}
