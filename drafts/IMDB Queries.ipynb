{
 "cells": [
  {
   "cell_type": "markdown",
   "id": "cc155916",
   "metadata": {},
   "source": [
    "# IMDB Database Queries Utilizing Mongo "
   ]
  },
  {
   "cell_type": "code",
   "execution_count": 1,
   "id": "ab98ed4a",
   "metadata": {},
   "outputs": [],
   "source": [
    "# Import dependencies\n",
    "from pymongo import MongoClient\n",
    "from pprint import pprint"
   ]
  },
  {
   "cell_type": "code",
   "execution_count": 2,
   "id": "024eeb33",
   "metadata": {},
   "outputs": [],
   "source": [
    "# Create an instance of MongoClient\n",
    "mongo = MongoClient(port=27017)"
   ]
  },
  {
   "cell_type": "code",
   "execution_count": 3,
   "id": "ec925792",
   "metadata": {},
   "outputs": [
    {
     "name": "stdout",
     "output_type": "stream",
     "text": [
      "['IMDB', 'admin', 'autosaurus', 'classDB', 'config', 'epa', 'fruits_db', 'local', 'met', 'petsitly_marketing', 'uk_food']\n"
     ]
    }
   ],
   "source": [
    "# confirm that our new database was created\n",
    "print(mongo.list_database_names())"
   ]
  },
  {
   "cell_type": "code",
   "execution_count": 4,
   "id": "d97f5c87",
   "metadata": {},
   "outputs": [],
   "source": [
    "# assign the IMDB databse a variable\n",
    "db= mongo['IMDB']"
   ]
  },
  {
   "cell_type": "code",
   "execution_count": 5,
   "id": "4271e6b5",
   "metadata": {},
   "outputs": [
    {
     "name": "stdout",
     "output_type": "stream",
     "text": [
      "['Movies', 'TV']\n"
     ]
    }
   ],
   "source": [
    "# review the collections in our new database\n",
    "print(db.list_collection_names())"
   ]
  },
  {
   "cell_type": "code",
   "execution_count": 6,
   "id": "3464a89c",
   "metadata": {},
   "outputs": [],
   "source": [
    "# assign the collections to a variable\n",
    "movies = db['Movies']\n",
    "tv= db['TV']"
   ]
  },
  {
   "cell_type": "code",
   "execution_count": null,
   "id": "1a5fd620",
   "metadata": {},
   "outputs": [],
   "source": []
  }
 ],
 "metadata": {
  "kernelspec": {
   "display_name": "Python 3 (ipykernel)",
   "language": "python",
   "name": "python3"
  },
  "language_info": {
   "codemirror_mode": {
    "name": "ipython",
    "version": 3
   },
   "file_extension": ".py",
   "mimetype": "text/x-python",
   "name": "python",
   "nbconvert_exporter": "python",
   "pygments_lexer": "ipython3",
   "version": "3.9.13"
  }
 },
 "nbformat": 4,
 "nbformat_minor": 5
}
